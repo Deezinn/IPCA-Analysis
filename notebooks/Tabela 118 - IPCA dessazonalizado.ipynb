{
 "cells": [
  {
   "cell_type": "markdown",
   "metadata": {},
   "source": [
    "## Tabela 118 - IPCA dessazonalizado"
   ]
  },
  {
   "cell_type": "code",
   "execution_count": 56,
   "metadata": {},
   "outputs": [
    {
     "data": {
      "application/vnd.microsoft.datawrangler.viewer.v0+json": {
       "columns": [
        {
         "name": "index",
         "rawType": "int64",
         "type": "integer"
        },
        {
         "name": "Nível Territorial (Código)",
         "rawType": "int64",
         "type": "integer"
        },
        {
         "name": "Nível Territorial",
         "rawType": "object",
         "type": "string"
        },
        {
         "name": "Unidade de Medida (Código)",
         "rawType": "int64",
         "type": "integer"
        },
        {
         "name": "Unidade de Medida",
         "rawType": "object",
         "type": "string"
        },
        {
         "name": "Valor",
         "rawType": "float64",
         "type": "float"
        },
        {
         "name": "Brasil (Código)",
         "rawType": "int64",
         "type": "integer"
        },
        {
         "name": "Brasil",
         "rawType": "object",
         "type": "string"
        },
        {
         "name": "Variável (Código)",
         "rawType": "int64",
         "type": "integer"
        },
        {
         "name": "Variável",
         "rawType": "object",
         "type": "string"
        },
        {
         "name": "Mês (Código)",
         "rawType": "int64",
         "type": "integer"
        },
        {
         "name": "Mês",
         "rawType": "object",
         "type": "string"
        }
       ],
       "conversionMethod": "pd.DataFrame",
       "ref": "1cbef490-00f8-42c8-b539-628403cda640",
       "rows": [
        [
         "0",
         "1",
         "Brasil",
         "2",
         "%",
         "0.59",
         "1",
         "Brasil",
         "306",
         "IPCA dessazonalizado - Variação mensal",
         "199801",
         "janeiro 1998"
        ],
        [
         "1",
         "1",
         "Brasil",
         "2",
         "%",
         "0.44",
         "1",
         "Brasil",
         "306",
         "IPCA dessazonalizado - Variação mensal",
         "199802",
         "fevereiro 1998"
        ],
        [
         "2",
         "1",
         "Brasil",
         "2",
         "%",
         "0.28",
         "1",
         "Brasil",
         "306",
         "IPCA dessazonalizado - Variação mensal",
         "199803",
         "março 1998"
        ],
        [
         "3",
         "1",
         "Brasil",
         "2",
         "%",
         "0.17",
         "1",
         "Brasil",
         "306",
         "IPCA dessazonalizado - Variação mensal",
         "199804",
         "abril 1998"
        ],
        [
         "4",
         "1",
         "Brasil",
         "2",
         "%",
         "0.48",
         "1",
         "Brasil",
         "306",
         "IPCA dessazonalizado - Variação mensal",
         "199805",
         "maio 1998"
        ],
        [
         "5",
         "1",
         "Brasil",
         "2",
         "%",
         "0.04",
         "1",
         "Brasil",
         "306",
         "IPCA dessazonalizado - Variação mensal",
         "199806",
         "junho 1998"
        ],
        [
         "6",
         "1",
         "Brasil",
         "2",
         "%",
         "-0.04",
         "1",
         "Brasil",
         "306",
         "IPCA dessazonalizado - Variação mensal",
         "199807",
         "julho 1998"
        ],
        [
         "7",
         "1",
         "Brasil",
         "2",
         "%",
         "-0.38",
         "1",
         "Brasil",
         "306",
         "IPCA dessazonalizado - Variação mensal",
         "199808",
         "agosto 1998"
        ],
        [
         "8",
         "1",
         "Brasil",
         "2",
         "%",
         "-0.16",
         "1",
         "Brasil",
         "306",
         "IPCA dessazonalizado - Variação mensal",
         "199809",
         "setembro 1998"
        ],
        [
         "9",
         "1",
         "Brasil",
         "2",
         "%",
         "0.05",
         "1",
         "Brasil",
         "306",
         "IPCA dessazonalizado - Variação mensal",
         "199810",
         "outubro 1998"
        ],
        [
         "10",
         "1",
         "Brasil",
         "2",
         "%",
         "-0.1",
         "1",
         "Brasil",
         "306",
         "IPCA dessazonalizado - Variação mensal",
         "199811",
         "novembro 1998"
        ],
        [
         "11",
         "1",
         "Brasil",
         "2",
         "%",
         "0.33",
         "1",
         "Brasil",
         "306",
         "IPCA dessazonalizado - Variação mensal",
         "199812",
         "dezembro 1998"
        ],
        [
         "12",
         "1",
         "Brasil",
         "2",
         "%",
         "0.58",
         "1",
         "Brasil",
         "306",
         "IPCA dessazonalizado - Variação mensal",
         "199901",
         "janeiro 1999"
        ],
        [
         "13",
         "1",
         "Brasil",
         "2",
         "%",
         "1.03",
         "1",
         "Brasil",
         "306",
         "IPCA dessazonalizado - Variação mensal",
         "199902",
         "fevereiro 1999"
        ],
        [
         "14",
         "1",
         "Brasil",
         "2",
         "%",
         "1.05",
         "1",
         "Brasil",
         "306",
         "IPCA dessazonalizado - Variação mensal",
         "199903",
         "março 1999"
        ],
        [
         "15",
         "1",
         "Brasil",
         "2",
         "%",
         "0.51",
         "1",
         "Brasil",
         "306",
         "IPCA dessazonalizado - Variação mensal",
         "199904",
         "abril 1999"
        ],
        [
         "16",
         "1",
         "Brasil",
         "2",
         "%",
         "0.3",
         "1",
         "Brasil",
         "306",
         "IPCA dessazonalizado - Variação mensal",
         "199905",
         "maio 1999"
        ],
        [
         "17",
         "1",
         "Brasil",
         "2",
         "%",
         "0.22",
         "1",
         "Brasil",
         "306",
         "IPCA dessazonalizado - Variação mensal",
         "199906",
         "junho 1999"
        ],
        [
         "18",
         "1",
         "Brasil",
         "2",
         "%",
         "1.18",
         "1",
         "Brasil",
         "306",
         "IPCA dessazonalizado - Variação mensal",
         "199907",
         "julho 1999"
        ],
        [
         "19",
         "1",
         "Brasil",
         "2",
         "%",
         "0.65",
         "1",
         "Brasil",
         "306",
         "IPCA dessazonalizado - Variação mensal",
         "199908",
         "agosto 1999"
        ],
        [
         "20",
         "1",
         "Brasil",
         "2",
         "%",
         "0.36",
         "1",
         "Brasil",
         "306",
         "IPCA dessazonalizado - Variação mensal",
         "199909",
         "setembro 1999"
        ],
        [
         "21",
         "1",
         "Brasil",
         "2",
         "%",
         "1.21",
         "1",
         "Brasil",
         "306",
         "IPCA dessazonalizado - Variação mensal",
         "199910",
         "outubro 1999"
        ],
        [
         "22",
         "1",
         "Brasil",
         "2",
         "%",
         "0.96",
         "1",
         "Brasil",
         "306",
         "IPCA dessazonalizado - Variação mensal",
         "199911",
         "novembro 1999"
        ],
        [
         "23",
         "1",
         "Brasil",
         "2",
         "%",
         "0.58",
         "1",
         "Brasil",
         "306",
         "IPCA dessazonalizado - Variação mensal",
         "199912",
         "dezembro 1999"
        ],
        [
         "24",
         "1",
         "Brasil",
         "2",
         "%",
         "0.53",
         "1",
         "Brasil",
         "306",
         "IPCA dessazonalizado - Variação mensal",
         "200001",
         "janeiro 2000"
        ],
        [
         "25",
         "1",
         "Brasil",
         "2",
         "%",
         "0.11",
         "1",
         "Brasil",
         "306",
         "IPCA dessazonalizado - Variação mensal",
         "200002",
         "fevereiro 2000"
        ],
        [
         "26",
         "1",
         "Brasil",
         "2",
         "%",
         "0.19",
         "1",
         "Brasil",
         "306",
         "IPCA dessazonalizado - Variação mensal",
         "200003",
         "março 2000"
        ],
        [
         "27",
         "1",
         "Brasil",
         "2",
         "%",
         "0.4",
         "1",
         "Brasil",
         "306",
         "IPCA dessazonalizado - Variação mensal",
         "200004",
         "abril 2000"
        ],
        [
         "28",
         "1",
         "Brasil",
         "2",
         "%",
         "0.06",
         "1",
         "Brasil",
         "306",
         "IPCA dessazonalizado - Variação mensal",
         "200005",
         "maio 2000"
        ],
        [
         "29",
         "1",
         "Brasil",
         "2",
         "%",
         "0.31",
         "1",
         "Brasil",
         "306",
         "IPCA dessazonalizado - Variação mensal",
         "200006",
         "junho 2000"
        ],
        [
         "30",
         "1",
         "Brasil",
         "2",
         "%",
         "1.68",
         "1",
         "Brasil",
         "306",
         "IPCA dessazonalizado - Variação mensal",
         "200007",
         "julho 2000"
        ],
        [
         "31",
         "1",
         "Brasil",
         "2",
         "%",
         "1.36",
         "1",
         "Brasil",
         "306",
         "IPCA dessazonalizado - Variação mensal",
         "200008",
         "agosto 2000"
        ],
        [
         "32",
         "1",
         "Brasil",
         "2",
         "%",
         "0.28",
         "1",
         "Brasil",
         "306",
         "IPCA dessazonalizado - Variação mensal",
         "200009",
         "setembro 2000"
        ],
        [
         "33",
         "1",
         "Brasil",
         "2",
         "%",
         "0.16",
         "1",
         "Brasil",
         "306",
         "IPCA dessazonalizado - Variação mensal",
         "200010",
         "outubro 2000"
        ],
        [
         "34",
         "1",
         "Brasil",
         "2",
         "%",
         "0.33",
         "1",
         "Brasil",
         "306",
         "IPCA dessazonalizado - Variação mensal",
         "200011",
         "novembro 2000"
        ],
        [
         "35",
         "1",
         "Brasil",
         "2",
         "%",
         "0.56",
         "1",
         "Brasil",
         "306",
         "IPCA dessazonalizado - Variação mensal",
         "200012",
         "dezembro 2000"
        ],
        [
         "36",
         "1",
         "Brasil",
         "2",
         "%",
         "0.48",
         "1",
         "Brasil",
         "306",
         "IPCA dessazonalizado - Variação mensal",
         "200101",
         "janeiro 2001"
        ],
        [
         "37",
         "1",
         "Brasil",
         "2",
         "%",
         "0.43",
         "1",
         "Brasil",
         "306",
         "IPCA dessazonalizado - Variação mensal",
         "200102",
         "fevereiro 2001"
        ],
        [
         "38",
         "1",
         "Brasil",
         "2",
         "%",
         "0.35",
         "1",
         "Brasil",
         "306",
         "IPCA dessazonalizado - Variação mensal",
         "200103",
         "março 2001"
        ],
        [
         "39",
         "1",
         "Brasil",
         "2",
         "%",
         "0.56",
         "1",
         "Brasil",
         "306",
         "IPCA dessazonalizado - Variação mensal",
         "200104",
         "abril 2001"
        ],
        [
         "40",
         "1",
         "Brasil",
         "2",
         "%",
         "0.44",
         "1",
         "Brasil",
         "306",
         "IPCA dessazonalizado - Variação mensal",
         "200105",
         "maio 2001"
        ],
        [
         "41",
         "1",
         "Brasil",
         "2",
         "%",
         "0.59",
         "1",
         "Brasil",
         "306",
         "IPCA dessazonalizado - Variação mensal",
         "200106",
         "junho 2001"
        ],
        [
         "42",
         "1",
         "Brasil",
         "2",
         "%",
         "1.39",
         "1",
         "Brasil",
         "306",
         "IPCA dessazonalizado - Variação mensal",
         "200107",
         "julho 2001"
        ],
        [
         "43",
         "1",
         "Brasil",
         "2",
         "%",
         "0.74",
         "1",
         "Brasil",
         "306",
         "IPCA dessazonalizado - Variação mensal",
         "200108",
         "agosto 2001"
        ],
        [
         "44",
         "1",
         "Brasil",
         "2",
         "%",
         "0.29",
         "1",
         "Brasil",
         "306",
         "IPCA dessazonalizado - Variação mensal",
         "200109",
         "setembro 2001"
        ],
        [
         "45",
         "1",
         "Brasil",
         "2",
         "%",
         "0.82",
         "1",
         "Brasil",
         "306",
         "IPCA dessazonalizado - Variação mensal",
         "200110",
         "outubro 2001"
        ],
        [
         "46",
         "1",
         "Brasil",
         "2",
         "%",
         "0.7",
         "1",
         "Brasil",
         "306",
         "IPCA dessazonalizado - Variação mensal",
         "200111",
         "novembro 2001"
        ],
        [
         "47",
         "1",
         "Brasil",
         "2",
         "%",
         "0.65",
         "1",
         "Brasil",
         "306",
         "IPCA dessazonalizado - Variação mensal",
         "200112",
         "dezembro 2001"
        ],
        [
         "48",
         "1",
         "Brasil",
         "2",
         "%",
         "0.45",
         "1",
         "Brasil",
         "306",
         "IPCA dessazonalizado - Variação mensal",
         "200201",
         "janeiro 2002"
        ],
        [
         "49",
         "1",
         "Brasil",
         "2",
         "%",
         "0.35",
         "1",
         "Brasil",
         "306",
         "IPCA dessazonalizado - Variação mensal",
         "200202",
         "fevereiro 2002"
        ]
       ],
       "shape": {
        "columns": 11,
        "rows": 324
       }
      },
      "text/html": [
       "<div>\n",
       "<style scoped>\n",
       "    .dataframe tbody tr th:only-of-type {\n",
       "        vertical-align: middle;\n",
       "    }\n",
       "\n",
       "    .dataframe tbody tr th {\n",
       "        vertical-align: top;\n",
       "    }\n",
       "\n",
       "    .dataframe thead th {\n",
       "        text-align: right;\n",
       "    }\n",
       "</style>\n",
       "<table border=\"1\" class=\"dataframe\">\n",
       "  <thead>\n",
       "    <tr style=\"text-align: right;\">\n",
       "      <th></th>\n",
       "      <th>Nível Territorial (Código)</th>\n",
       "      <th>Nível Territorial</th>\n",
       "      <th>Unidade de Medida (Código)</th>\n",
       "      <th>Unidade de Medida</th>\n",
       "      <th>Valor</th>\n",
       "      <th>Brasil (Código)</th>\n",
       "      <th>Brasil</th>\n",
       "      <th>Variável (Código)</th>\n",
       "      <th>Variável</th>\n",
       "      <th>Mês (Código)</th>\n",
       "      <th>Mês</th>\n",
       "    </tr>\n",
       "  </thead>\n",
       "  <tbody>\n",
       "    <tr>\n",
       "      <th>0</th>\n",
       "      <td>1</td>\n",
       "      <td>Brasil</td>\n",
       "      <td>2</td>\n",
       "      <td>%</td>\n",
       "      <td>0.59</td>\n",
       "      <td>1</td>\n",
       "      <td>Brasil</td>\n",
       "      <td>306</td>\n",
       "      <td>IPCA dessazonalizado - Variação mensal</td>\n",
       "      <td>199801</td>\n",
       "      <td>janeiro 1998</td>\n",
       "    </tr>\n",
       "    <tr>\n",
       "      <th>1</th>\n",
       "      <td>1</td>\n",
       "      <td>Brasil</td>\n",
       "      <td>2</td>\n",
       "      <td>%</td>\n",
       "      <td>0.44</td>\n",
       "      <td>1</td>\n",
       "      <td>Brasil</td>\n",
       "      <td>306</td>\n",
       "      <td>IPCA dessazonalizado - Variação mensal</td>\n",
       "      <td>199802</td>\n",
       "      <td>fevereiro 1998</td>\n",
       "    </tr>\n",
       "    <tr>\n",
       "      <th>2</th>\n",
       "      <td>1</td>\n",
       "      <td>Brasil</td>\n",
       "      <td>2</td>\n",
       "      <td>%</td>\n",
       "      <td>0.28</td>\n",
       "      <td>1</td>\n",
       "      <td>Brasil</td>\n",
       "      <td>306</td>\n",
       "      <td>IPCA dessazonalizado - Variação mensal</td>\n",
       "      <td>199803</td>\n",
       "      <td>março 1998</td>\n",
       "    </tr>\n",
       "    <tr>\n",
       "      <th>3</th>\n",
       "      <td>1</td>\n",
       "      <td>Brasil</td>\n",
       "      <td>2</td>\n",
       "      <td>%</td>\n",
       "      <td>0.17</td>\n",
       "      <td>1</td>\n",
       "      <td>Brasil</td>\n",
       "      <td>306</td>\n",
       "      <td>IPCA dessazonalizado - Variação mensal</td>\n",
       "      <td>199804</td>\n",
       "      <td>abril 1998</td>\n",
       "    </tr>\n",
       "    <tr>\n",
       "      <th>4</th>\n",
       "      <td>1</td>\n",
       "      <td>Brasil</td>\n",
       "      <td>2</td>\n",
       "      <td>%</td>\n",
       "      <td>0.48</td>\n",
       "      <td>1</td>\n",
       "      <td>Brasil</td>\n",
       "      <td>306</td>\n",
       "      <td>IPCA dessazonalizado - Variação mensal</td>\n",
       "      <td>199805</td>\n",
       "      <td>maio 1998</td>\n",
       "    </tr>\n",
       "    <tr>\n",
       "      <th>...</th>\n",
       "      <td>...</td>\n",
       "      <td>...</td>\n",
       "      <td>...</td>\n",
       "      <td>...</td>\n",
       "      <td>...</td>\n",
       "      <td>...</td>\n",
       "      <td>...</td>\n",
       "      <td>...</td>\n",
       "      <td>...</td>\n",
       "      <td>...</td>\n",
       "      <td>...</td>\n",
       "    </tr>\n",
       "    <tr>\n",
       "      <th>319</th>\n",
       "      <td>1</td>\n",
       "      <td>Brasil</td>\n",
       "      <td>2</td>\n",
       "      <td>%</td>\n",
       "      <td>0.08</td>\n",
       "      <td>1</td>\n",
       "      <td>Brasil</td>\n",
       "      <td>306</td>\n",
       "      <td>IPCA dessazonalizado - Variação mensal</td>\n",
       "      <td>202408</td>\n",
       "      <td>agosto 2024</td>\n",
       "    </tr>\n",
       "    <tr>\n",
       "      <th>320</th>\n",
       "      <td>1</td>\n",
       "      <td>Brasil</td>\n",
       "      <td>2</td>\n",
       "      <td>%</td>\n",
       "      <td>0.50</td>\n",
       "      <td>1</td>\n",
       "      <td>Brasil</td>\n",
       "      <td>306</td>\n",
       "      <td>IPCA dessazonalizado - Variação mensal</td>\n",
       "      <td>202409</td>\n",
       "      <td>setembro 2024</td>\n",
       "    </tr>\n",
       "    <tr>\n",
       "      <th>321</th>\n",
       "      <td>1</td>\n",
       "      <td>Brasil</td>\n",
       "      <td>2</td>\n",
       "      <td>%</td>\n",
       "      <td>0.54</td>\n",
       "      <td>1</td>\n",
       "      <td>Brasil</td>\n",
       "      <td>306</td>\n",
       "      <td>IPCA dessazonalizado - Variação mensal</td>\n",
       "      <td>202410</td>\n",
       "      <td>outubro 2024</td>\n",
       "    </tr>\n",
       "    <tr>\n",
       "      <th>322</th>\n",
       "      <td>1</td>\n",
       "      <td>Brasil</td>\n",
       "      <td>2</td>\n",
       "      <td>%</td>\n",
       "      <td>0.33</td>\n",
       "      <td>1</td>\n",
       "      <td>Brasil</td>\n",
       "      <td>306</td>\n",
       "      <td>IPCA dessazonalizado - Variação mensal</td>\n",
       "      <td>202411</td>\n",
       "      <td>novembro 2024</td>\n",
       "    </tr>\n",
       "    <tr>\n",
       "      <th>323</th>\n",
       "      <td>1</td>\n",
       "      <td>Brasil</td>\n",
       "      <td>2</td>\n",
       "      <td>%</td>\n",
       "      <td>0.44</td>\n",
       "      <td>1</td>\n",
       "      <td>Brasil</td>\n",
       "      <td>306</td>\n",
       "      <td>IPCA dessazonalizado - Variação mensal</td>\n",
       "      <td>202412</td>\n",
       "      <td>dezembro 2024</td>\n",
       "    </tr>\n",
       "  </tbody>\n",
       "</table>\n",
       "<p>324 rows × 11 columns</p>\n",
       "</div>"
      ],
      "text/plain": [
       "     Nível Territorial (Código) Nível Territorial  Unidade de Medida (Código)  \\\n",
       "0                             1            Brasil                           2   \n",
       "1                             1            Brasil                           2   \n",
       "2                             1            Brasil                           2   \n",
       "3                             1            Brasil                           2   \n",
       "4                             1            Brasil                           2   \n",
       "..                          ...               ...                         ...   \n",
       "319                           1            Brasil                           2   \n",
       "320                           1            Brasil                           2   \n",
       "321                           1            Brasil                           2   \n",
       "322                           1            Brasil                           2   \n",
       "323                           1            Brasil                           2   \n",
       "\n",
       "    Unidade de Medida  Valor  Brasil (Código)  Brasil  Variável (Código)  \\\n",
       "0                   %   0.59                1  Brasil                306   \n",
       "1                   %   0.44                1  Brasil                306   \n",
       "2                   %   0.28                1  Brasil                306   \n",
       "3                   %   0.17                1  Brasil                306   \n",
       "4                   %   0.48                1  Brasil                306   \n",
       "..                ...    ...              ...     ...                ...   \n",
       "319                 %   0.08                1  Brasil                306   \n",
       "320                 %   0.50                1  Brasil                306   \n",
       "321                 %   0.54                1  Brasil                306   \n",
       "322                 %   0.33                1  Brasil                306   \n",
       "323                 %   0.44                1  Brasil                306   \n",
       "\n",
       "                                   Variável  Mês (Código)             Mês  \n",
       "0    IPCA dessazonalizado - Variação mensal        199801    janeiro 1998  \n",
       "1    IPCA dessazonalizado - Variação mensal        199802  fevereiro 1998  \n",
       "2    IPCA dessazonalizado - Variação mensal        199803      março 1998  \n",
       "3    IPCA dessazonalizado - Variação mensal        199804      abril 1998  \n",
       "4    IPCA dessazonalizado - Variação mensal        199805       maio 1998  \n",
       "..                                      ...           ...             ...  \n",
       "319  IPCA dessazonalizado - Variação mensal        202408     agosto 2024  \n",
       "320  IPCA dessazonalizado - Variação mensal        202409   setembro 2024  \n",
       "321  IPCA dessazonalizado - Variação mensal        202410    outubro 2024  \n",
       "322  IPCA dessazonalizado - Variação mensal        202411   novembro 2024  \n",
       "323  IPCA dessazonalizado - Variação mensal        202412   dezembro 2024  \n",
       "\n",
       "[324 rows x 11 columns]"
      ]
     },
     "execution_count": 56,
     "metadata": {},
     "output_type": "execute_result"
    }
   ],
   "source": [
    "import pandas as pd\n",
    "data = pd.read_csv('../data/Tabela 118 - IPCA dessazonalizado.csv', header=1)\n",
    "df = data.copy()\n",
    "df"
   ]
  },
  {
   "cell_type": "markdown",
   "metadata": {},
   "source": [
    "### Verificando Valores únicos das colunas"
   ]
  },
  {
   "cell_type": "code",
   "execution_count": 40,
   "metadata": {},
   "outputs": [
    {
     "name": "stdout",
     "output_type": "stream",
     "text": [
      "[1]\n",
      "['Brasil']\n",
      "[2]\n",
      "['%']\n",
      "[1]\n",
      "['Brasil']\n",
      "[306]\n",
      "['IPCA dessazonalizado - Variação mensal']\n"
     ]
    }
   ],
   "source": [
    "colunas = [\n",
    "       'Nível Territorial (Código)', 'Nível Territorial',\n",
    "       'Unidade de Medida (Código)', 'Unidade de Medida',\n",
    "       'Brasil (Código)', 'Brasil', 'Variável (Código)', 'Variável',\n",
    "]\n",
    "\n",
    "for coluna in colunas:\n",
    "    print(df[coluna].unique())"
   ]
  },
  {
   "cell_type": "code",
   "execution_count": 41,
   "metadata": {},
   "outputs": [],
   "source": [
    "renomear_colunas = ['Nivel Territorial Codigo', 'Nivel Territorial', 'Unidade de Medida Codigo','Unidade de Medida', 'Valor', 'Brasil Codigo', 'Pais', 'Variavel Codigo', 'Variavel', 'Mes Codigo', 'Mes']\n",
    "df.columns = renomear_colunas"
   ]
  },
  {
   "cell_type": "markdown",
   "metadata": {},
   "source": [
    "### Irei remover colunas desnecessárias"
   ]
  },
  {
   "cell_type": "code",
   "execution_count": 42,
   "metadata": {},
   "outputs": [],
   "source": [
    "colunas = ['Nivel Territorial Codigo', 'Unidade de Medida Codigo','Brasil Codigo', 'Mes Codigo', 'Variavel Codigo']\n",
    "\n",
    "df_tratado = df.drop(columns=colunas)"
   ]
  },
  {
   "cell_type": "markdown",
   "metadata": {},
   "source": [
    "### Criando coluna de ano"
   ]
  },
  {
   "cell_type": "code",
   "execution_count": 43,
   "metadata": {},
   "outputs": [],
   "source": [
    "df_tratado['Ano'] = df_tratado['Mes'].str[-4:]"
   ]
  },
  {
   "cell_type": "markdown",
   "metadata": {},
   "source": [
    "### Separando mês de ano"
   ]
  },
  {
   "cell_type": "code",
   "execution_count": 44,
   "metadata": {},
   "outputs": [],
   "source": [
    "meses_numeros = {\n",
    "    'janeiro ': '1', 'fevereiro ': '2', 'março ':'3' , 'abril ': '4', 'maio ': '5', 'junho ': '6',\n",
    "    'julho ': '7', 'agosto ': '8', 'setembro ': '9', 'outubro ': '10', 'novembro ': '11',\n",
    "    'dezembro ': '12'}\n",
    "\n",
    "meses_df = df_tratado['Mes'].str[-15:-4]\n",
    "\n",
    "\n",
    "for i, mes in enumerate(meses_df):\n",
    "    for chave, valor in meses_numeros.items():\n",
    "        if chave in mes:\n",
    "            df_tratado.loc[i, 'Mes'] = valor\n",
    "            break"
   ]
  },
  {
   "cell_type": "markdown",
   "metadata": {},
   "source": [
    "### Criando data"
   ]
  },
  {
   "cell_type": "code",
   "execution_count": 45,
   "metadata": {},
   "outputs": [],
   "source": [
    "df_tratado['Data'] = df_tratado['Ano'] + '-' + df_tratado['Mes'] + '-' + '1'\n",
    "df_tratado['Data'] = pd.to_datetime(df_tratado['Data'])"
   ]
  },
  {
   "cell_type": "markdown",
   "metadata": {},
   "source": [
    "### Deletando coluna mes e ano"
   ]
  },
  {
   "cell_type": "code",
   "execution_count": 46,
   "metadata": {},
   "outputs": [],
   "source": [
    "df_tratado = df_tratado.drop(columns=['Ano', 'Mes'])"
   ]
  },
  {
   "cell_type": "code",
   "execution_count": 47,
   "metadata": {},
   "outputs": [
    {
     "data": {
      "application/vnd.microsoft.datawrangler.viewer.v0+json": {
       "columns": [
        {
         "name": "index",
         "rawType": "int64",
         "type": "integer"
        },
        {
         "name": "Nivel Territorial",
         "rawType": "object",
         "type": "string"
        },
        {
         "name": "Unidade de Medida",
         "rawType": "object",
         "type": "string"
        },
        {
         "name": "Valor",
         "rawType": "float64",
         "type": "float"
        },
        {
         "name": "Pais",
         "rawType": "object",
         "type": "string"
        },
        {
         "name": "Variavel",
         "rawType": "object",
         "type": "string"
        },
        {
         "name": "Data",
         "rawType": "datetime64[ns]",
         "type": "datetime"
        }
       ],
       "conversionMethod": "pd.DataFrame",
       "ref": "5053651d-e77d-4d3a-a6d6-14ddc1190e46",
       "rows": [
        [
         "0",
         "Brasil",
         "%",
         "0.59",
         "Brasil",
         "IPCA dessazonalizado - Variação mensal",
         "1998-01-01 00:00:00"
        ],
        [
         "1",
         "Brasil",
         "%",
         "0.44",
         "Brasil",
         "IPCA dessazonalizado - Variação mensal",
         "1998-02-01 00:00:00"
        ],
        [
         "2",
         "Brasil",
         "%",
         "0.28",
         "Brasil",
         "IPCA dessazonalizado - Variação mensal",
         "1998-03-01 00:00:00"
        ],
        [
         "3",
         "Brasil",
         "%",
         "0.17",
         "Brasil",
         "IPCA dessazonalizado - Variação mensal",
         "1998-04-01 00:00:00"
        ],
        [
         "4",
         "Brasil",
         "%",
         "0.48",
         "Brasil",
         "IPCA dessazonalizado - Variação mensal",
         "1998-05-01 00:00:00"
        ],
        [
         "5",
         "Brasil",
         "%",
         "0.04",
         "Brasil",
         "IPCA dessazonalizado - Variação mensal",
         "1998-06-01 00:00:00"
        ],
        [
         "6",
         "Brasil",
         "%",
         "-0.04",
         "Brasil",
         "IPCA dessazonalizado - Variação mensal",
         "1998-07-01 00:00:00"
        ],
        [
         "7",
         "Brasil",
         "%",
         "-0.38",
         "Brasil",
         "IPCA dessazonalizado - Variação mensal",
         "1998-08-01 00:00:00"
        ],
        [
         "8",
         "Brasil",
         "%",
         "-0.16",
         "Brasil",
         "IPCA dessazonalizado - Variação mensal",
         "1998-09-01 00:00:00"
        ],
        [
         "9",
         "Brasil",
         "%",
         "0.05",
         "Brasil",
         "IPCA dessazonalizado - Variação mensal",
         "1998-10-01 00:00:00"
        ],
        [
         "10",
         "Brasil",
         "%",
         "-0.1",
         "Brasil",
         "IPCA dessazonalizado - Variação mensal",
         "1998-11-01 00:00:00"
        ],
        [
         "11",
         "Brasil",
         "%",
         "0.33",
         "Brasil",
         "IPCA dessazonalizado - Variação mensal",
         "1998-12-01 00:00:00"
        ],
        [
         "12",
         "Brasil",
         "%",
         "0.58",
         "Brasil",
         "IPCA dessazonalizado - Variação mensal",
         "1999-01-01 00:00:00"
        ],
        [
         "13",
         "Brasil",
         "%",
         "1.03",
         "Brasil",
         "IPCA dessazonalizado - Variação mensal",
         "1999-02-01 00:00:00"
        ],
        [
         "14",
         "Brasil",
         "%",
         "1.05",
         "Brasil",
         "IPCA dessazonalizado - Variação mensal",
         "1999-03-01 00:00:00"
        ],
        [
         "15",
         "Brasil",
         "%",
         "0.51",
         "Brasil",
         "IPCA dessazonalizado - Variação mensal",
         "1999-04-01 00:00:00"
        ],
        [
         "16",
         "Brasil",
         "%",
         "0.3",
         "Brasil",
         "IPCA dessazonalizado - Variação mensal",
         "1999-05-01 00:00:00"
        ],
        [
         "17",
         "Brasil",
         "%",
         "0.22",
         "Brasil",
         "IPCA dessazonalizado - Variação mensal",
         "1999-06-01 00:00:00"
        ],
        [
         "18",
         "Brasil",
         "%",
         "1.18",
         "Brasil",
         "IPCA dessazonalizado - Variação mensal",
         "1999-07-01 00:00:00"
        ],
        [
         "19",
         "Brasil",
         "%",
         "0.65",
         "Brasil",
         "IPCA dessazonalizado - Variação mensal",
         "1999-08-01 00:00:00"
        ],
        [
         "20",
         "Brasil",
         "%",
         "0.36",
         "Brasil",
         "IPCA dessazonalizado - Variação mensal",
         "1999-09-01 00:00:00"
        ],
        [
         "21",
         "Brasil",
         "%",
         "1.21",
         "Brasil",
         "IPCA dessazonalizado - Variação mensal",
         "1999-10-01 00:00:00"
        ],
        [
         "22",
         "Brasil",
         "%",
         "0.96",
         "Brasil",
         "IPCA dessazonalizado - Variação mensal",
         "1999-11-01 00:00:00"
        ],
        [
         "23",
         "Brasil",
         "%",
         "0.58",
         "Brasil",
         "IPCA dessazonalizado - Variação mensal",
         "1999-12-01 00:00:00"
        ],
        [
         "24",
         "Brasil",
         "%",
         "0.53",
         "Brasil",
         "IPCA dessazonalizado - Variação mensal",
         "2000-01-01 00:00:00"
        ],
        [
         "25",
         "Brasil",
         "%",
         "0.11",
         "Brasil",
         "IPCA dessazonalizado - Variação mensal",
         "2000-02-01 00:00:00"
        ],
        [
         "26",
         "Brasil",
         "%",
         "0.19",
         "Brasil",
         "IPCA dessazonalizado - Variação mensal",
         "2000-03-01 00:00:00"
        ],
        [
         "27",
         "Brasil",
         "%",
         "0.4",
         "Brasil",
         "IPCA dessazonalizado - Variação mensal",
         "2000-04-01 00:00:00"
        ],
        [
         "28",
         "Brasil",
         "%",
         "0.06",
         "Brasil",
         "IPCA dessazonalizado - Variação mensal",
         "2000-05-01 00:00:00"
        ],
        [
         "29",
         "Brasil",
         "%",
         "0.31",
         "Brasil",
         "IPCA dessazonalizado - Variação mensal",
         "2000-06-01 00:00:00"
        ],
        [
         "30",
         "Brasil",
         "%",
         "1.68",
         "Brasil",
         "IPCA dessazonalizado - Variação mensal",
         "2000-07-01 00:00:00"
        ],
        [
         "31",
         "Brasil",
         "%",
         "1.36",
         "Brasil",
         "IPCA dessazonalizado - Variação mensal",
         "2000-08-01 00:00:00"
        ],
        [
         "32",
         "Brasil",
         "%",
         "0.28",
         "Brasil",
         "IPCA dessazonalizado - Variação mensal",
         "2000-09-01 00:00:00"
        ],
        [
         "33",
         "Brasil",
         "%",
         "0.16",
         "Brasil",
         "IPCA dessazonalizado - Variação mensal",
         "2000-10-01 00:00:00"
        ],
        [
         "34",
         "Brasil",
         "%",
         "0.33",
         "Brasil",
         "IPCA dessazonalizado - Variação mensal",
         "2000-11-01 00:00:00"
        ],
        [
         "35",
         "Brasil",
         "%",
         "0.56",
         "Brasil",
         "IPCA dessazonalizado - Variação mensal",
         "2000-12-01 00:00:00"
        ],
        [
         "36",
         "Brasil",
         "%",
         "0.48",
         "Brasil",
         "IPCA dessazonalizado - Variação mensal",
         "2001-01-01 00:00:00"
        ],
        [
         "37",
         "Brasil",
         "%",
         "0.43",
         "Brasil",
         "IPCA dessazonalizado - Variação mensal",
         "2001-02-01 00:00:00"
        ],
        [
         "38",
         "Brasil",
         "%",
         "0.35",
         "Brasil",
         "IPCA dessazonalizado - Variação mensal",
         "2001-03-01 00:00:00"
        ],
        [
         "39",
         "Brasil",
         "%",
         "0.56",
         "Brasil",
         "IPCA dessazonalizado - Variação mensal",
         "2001-04-01 00:00:00"
        ],
        [
         "40",
         "Brasil",
         "%",
         "0.44",
         "Brasil",
         "IPCA dessazonalizado - Variação mensal",
         "2001-05-01 00:00:00"
        ],
        [
         "41",
         "Brasil",
         "%",
         "0.59",
         "Brasil",
         "IPCA dessazonalizado - Variação mensal",
         "2001-06-01 00:00:00"
        ],
        [
         "42",
         "Brasil",
         "%",
         "1.39",
         "Brasil",
         "IPCA dessazonalizado - Variação mensal",
         "2001-07-01 00:00:00"
        ],
        [
         "43",
         "Brasil",
         "%",
         "0.74",
         "Brasil",
         "IPCA dessazonalizado - Variação mensal",
         "2001-08-01 00:00:00"
        ],
        [
         "44",
         "Brasil",
         "%",
         "0.29",
         "Brasil",
         "IPCA dessazonalizado - Variação mensal",
         "2001-09-01 00:00:00"
        ],
        [
         "45",
         "Brasil",
         "%",
         "0.82",
         "Brasil",
         "IPCA dessazonalizado - Variação mensal",
         "2001-10-01 00:00:00"
        ],
        [
         "46",
         "Brasil",
         "%",
         "0.7",
         "Brasil",
         "IPCA dessazonalizado - Variação mensal",
         "2001-11-01 00:00:00"
        ],
        [
         "47",
         "Brasil",
         "%",
         "0.65",
         "Brasil",
         "IPCA dessazonalizado - Variação mensal",
         "2001-12-01 00:00:00"
        ],
        [
         "48",
         "Brasil",
         "%",
         "0.45",
         "Brasil",
         "IPCA dessazonalizado - Variação mensal",
         "2002-01-01 00:00:00"
        ],
        [
         "49",
         "Brasil",
         "%",
         "0.35",
         "Brasil",
         "IPCA dessazonalizado - Variação mensal",
         "2002-02-01 00:00:00"
        ]
       ],
       "shape": {
        "columns": 6,
        "rows": 324
       }
      },
      "text/html": [
       "<div>\n",
       "<style scoped>\n",
       "    .dataframe tbody tr th:only-of-type {\n",
       "        vertical-align: middle;\n",
       "    }\n",
       "\n",
       "    .dataframe tbody tr th {\n",
       "        vertical-align: top;\n",
       "    }\n",
       "\n",
       "    .dataframe thead th {\n",
       "        text-align: right;\n",
       "    }\n",
       "</style>\n",
       "<table border=\"1\" class=\"dataframe\">\n",
       "  <thead>\n",
       "    <tr style=\"text-align: right;\">\n",
       "      <th></th>\n",
       "      <th>Nivel Territorial</th>\n",
       "      <th>Unidade de Medida</th>\n",
       "      <th>Valor</th>\n",
       "      <th>Pais</th>\n",
       "      <th>Variavel</th>\n",
       "      <th>Data</th>\n",
       "    </tr>\n",
       "  </thead>\n",
       "  <tbody>\n",
       "    <tr>\n",
       "      <th>0</th>\n",
       "      <td>Brasil</td>\n",
       "      <td>%</td>\n",
       "      <td>0.59</td>\n",
       "      <td>Brasil</td>\n",
       "      <td>IPCA dessazonalizado - Variação mensal</td>\n",
       "      <td>1998-01-01</td>\n",
       "    </tr>\n",
       "    <tr>\n",
       "      <th>1</th>\n",
       "      <td>Brasil</td>\n",
       "      <td>%</td>\n",
       "      <td>0.44</td>\n",
       "      <td>Brasil</td>\n",
       "      <td>IPCA dessazonalizado - Variação mensal</td>\n",
       "      <td>1998-02-01</td>\n",
       "    </tr>\n",
       "    <tr>\n",
       "      <th>2</th>\n",
       "      <td>Brasil</td>\n",
       "      <td>%</td>\n",
       "      <td>0.28</td>\n",
       "      <td>Brasil</td>\n",
       "      <td>IPCA dessazonalizado - Variação mensal</td>\n",
       "      <td>1998-03-01</td>\n",
       "    </tr>\n",
       "    <tr>\n",
       "      <th>3</th>\n",
       "      <td>Brasil</td>\n",
       "      <td>%</td>\n",
       "      <td>0.17</td>\n",
       "      <td>Brasil</td>\n",
       "      <td>IPCA dessazonalizado - Variação mensal</td>\n",
       "      <td>1998-04-01</td>\n",
       "    </tr>\n",
       "    <tr>\n",
       "      <th>4</th>\n",
       "      <td>Brasil</td>\n",
       "      <td>%</td>\n",
       "      <td>0.48</td>\n",
       "      <td>Brasil</td>\n",
       "      <td>IPCA dessazonalizado - Variação mensal</td>\n",
       "      <td>1998-05-01</td>\n",
       "    </tr>\n",
       "    <tr>\n",
       "      <th>...</th>\n",
       "      <td>...</td>\n",
       "      <td>...</td>\n",
       "      <td>...</td>\n",
       "      <td>...</td>\n",
       "      <td>...</td>\n",
       "      <td>...</td>\n",
       "    </tr>\n",
       "    <tr>\n",
       "      <th>319</th>\n",
       "      <td>Brasil</td>\n",
       "      <td>%</td>\n",
       "      <td>0.08</td>\n",
       "      <td>Brasil</td>\n",
       "      <td>IPCA dessazonalizado - Variação mensal</td>\n",
       "      <td>2024-08-01</td>\n",
       "    </tr>\n",
       "    <tr>\n",
       "      <th>320</th>\n",
       "      <td>Brasil</td>\n",
       "      <td>%</td>\n",
       "      <td>0.50</td>\n",
       "      <td>Brasil</td>\n",
       "      <td>IPCA dessazonalizado - Variação mensal</td>\n",
       "      <td>2024-09-01</td>\n",
       "    </tr>\n",
       "    <tr>\n",
       "      <th>321</th>\n",
       "      <td>Brasil</td>\n",
       "      <td>%</td>\n",
       "      <td>0.54</td>\n",
       "      <td>Brasil</td>\n",
       "      <td>IPCA dessazonalizado - Variação mensal</td>\n",
       "      <td>2024-10-01</td>\n",
       "    </tr>\n",
       "    <tr>\n",
       "      <th>322</th>\n",
       "      <td>Brasil</td>\n",
       "      <td>%</td>\n",
       "      <td>0.33</td>\n",
       "      <td>Brasil</td>\n",
       "      <td>IPCA dessazonalizado - Variação mensal</td>\n",
       "      <td>2024-11-01</td>\n",
       "    </tr>\n",
       "    <tr>\n",
       "      <th>323</th>\n",
       "      <td>Brasil</td>\n",
       "      <td>%</td>\n",
       "      <td>0.44</td>\n",
       "      <td>Brasil</td>\n",
       "      <td>IPCA dessazonalizado - Variação mensal</td>\n",
       "      <td>2024-12-01</td>\n",
       "    </tr>\n",
       "  </tbody>\n",
       "</table>\n",
       "<p>324 rows × 6 columns</p>\n",
       "</div>"
      ],
      "text/plain": [
       "    Nivel Territorial Unidade de Medida  Valor    Pais  \\\n",
       "0              Brasil                 %   0.59  Brasil   \n",
       "1              Brasil                 %   0.44  Brasil   \n",
       "2              Brasil                 %   0.28  Brasil   \n",
       "3              Brasil                 %   0.17  Brasil   \n",
       "4              Brasil                 %   0.48  Brasil   \n",
       "..                ...               ...    ...     ...   \n",
       "319            Brasil                 %   0.08  Brasil   \n",
       "320            Brasil                 %   0.50  Brasil   \n",
       "321            Brasil                 %   0.54  Brasil   \n",
       "322            Brasil                 %   0.33  Brasil   \n",
       "323            Brasil                 %   0.44  Brasil   \n",
       "\n",
       "                                   Variavel       Data  \n",
       "0    IPCA dessazonalizado - Variação mensal 1998-01-01  \n",
       "1    IPCA dessazonalizado - Variação mensal 1998-02-01  \n",
       "2    IPCA dessazonalizado - Variação mensal 1998-03-01  \n",
       "3    IPCA dessazonalizado - Variação mensal 1998-04-01  \n",
       "4    IPCA dessazonalizado - Variação mensal 1998-05-01  \n",
       "..                                      ...        ...  \n",
       "319  IPCA dessazonalizado - Variação mensal 2024-08-01  \n",
       "320  IPCA dessazonalizado - Variação mensal 2024-09-01  \n",
       "321  IPCA dessazonalizado - Variação mensal 2024-10-01  \n",
       "322  IPCA dessazonalizado - Variação mensal 2024-11-01  \n",
       "323  IPCA dessazonalizado - Variação mensal 2024-12-01  \n",
       "\n",
       "[324 rows x 6 columns]"
      ]
     },
     "execution_count": 47,
     "metadata": {},
     "output_type": "execute_result"
    }
   ],
   "source": [
    "df_tratado"
   ]
  },
  {
   "cell_type": "code",
   "execution_count": 48,
   "metadata": {},
   "outputs": [],
   "source": [
    "data_referencia = pd.to_datetime('2024-01-01')\n",
    "IPCA_dessazonalizado_2024 = df_tratado.query(\"Data >= @data_referencia\")\n"
   ]
  },
  {
   "cell_type": "code",
   "execution_count": 49,
   "metadata": {},
   "outputs": [
    {
     "data": {
      "application/vnd.microsoft.datawrangler.viewer.v0+json": {
       "columns": [
        {
         "name": "index",
         "rawType": "int64",
         "type": "integer"
        },
        {
         "name": "Nivel Territorial",
         "rawType": "object",
         "type": "string"
        },
        {
         "name": "Unidade de Medida",
         "rawType": "object",
         "type": "string"
        },
        {
         "name": "Valor",
         "rawType": "float64",
         "type": "float"
        },
        {
         "name": "Pais",
         "rawType": "object",
         "type": "string"
        },
        {
         "name": "Variavel",
         "rawType": "object",
         "type": "string"
        },
        {
         "name": "Data",
         "rawType": "datetime64[ns]",
         "type": "datetime"
        }
       ],
       "conversionMethod": "pd.DataFrame",
       "ref": "0e7d4346-0b75-4483-8eb5-f24f1a91710b",
       "rows": [
        [
         "312",
         "Brasil",
         "%",
         "0.32",
         "Brasil",
         "IPCA dessazonalizado - Variação mensal",
         "2024-01-01 00:00:00"
        ],
        [
         "313",
         "Brasil",
         "%",
         "0.82",
         "Brasil",
         "IPCA dessazonalizado - Variação mensal",
         "2024-02-01 00:00:00"
        ],
        [
         "314",
         "Brasil",
         "%",
         "0.1",
         "Brasil",
         "IPCA dessazonalizado - Variação mensal",
         "2024-03-01 00:00:00"
        ],
        [
         "315",
         "Brasil",
         "%",
         "0.33",
         "Brasil",
         "IPCA dessazonalizado - Variação mensal",
         "2024-04-01 00:00:00"
        ],
        [
         "316",
         "Brasil",
         "%",
         "0.49",
         "Brasil",
         "IPCA dessazonalizado - Variação mensal",
         "2024-05-01 00:00:00"
        ],
        [
         "317",
         "Brasil",
         "%",
         "0.28",
         "Brasil",
         "IPCA dessazonalizado - Variação mensal",
         "2024-06-01 00:00:00"
        ],
        [
         "318",
         "Brasil",
         "%",
         "0.5",
         "Brasil",
         "IPCA dessazonalizado - Variação mensal",
         "2024-07-01 00:00:00"
        ],
        [
         "319",
         "Brasil",
         "%",
         "0.08",
         "Brasil",
         "IPCA dessazonalizado - Variação mensal",
         "2024-08-01 00:00:00"
        ],
        [
         "320",
         "Brasil",
         "%",
         "0.5",
         "Brasil",
         "IPCA dessazonalizado - Variação mensal",
         "2024-09-01 00:00:00"
        ],
        [
         "321",
         "Brasil",
         "%",
         "0.54",
         "Brasil",
         "IPCA dessazonalizado - Variação mensal",
         "2024-10-01 00:00:00"
        ],
        [
         "322",
         "Brasil",
         "%",
         "0.33",
         "Brasil",
         "IPCA dessazonalizado - Variação mensal",
         "2024-11-01 00:00:00"
        ],
        [
         "323",
         "Brasil",
         "%",
         "0.44",
         "Brasil",
         "IPCA dessazonalizado - Variação mensal",
         "2024-12-01 00:00:00"
        ]
       ],
       "shape": {
        "columns": 6,
        "rows": 12
       }
      },
      "text/html": [
       "<div>\n",
       "<style scoped>\n",
       "    .dataframe tbody tr th:only-of-type {\n",
       "        vertical-align: middle;\n",
       "    }\n",
       "\n",
       "    .dataframe tbody tr th {\n",
       "        vertical-align: top;\n",
       "    }\n",
       "\n",
       "    .dataframe thead th {\n",
       "        text-align: right;\n",
       "    }\n",
       "</style>\n",
       "<table border=\"1\" class=\"dataframe\">\n",
       "  <thead>\n",
       "    <tr style=\"text-align: right;\">\n",
       "      <th></th>\n",
       "      <th>Nivel Territorial</th>\n",
       "      <th>Unidade de Medida</th>\n",
       "      <th>Valor</th>\n",
       "      <th>Pais</th>\n",
       "      <th>Variavel</th>\n",
       "      <th>Data</th>\n",
       "    </tr>\n",
       "  </thead>\n",
       "  <tbody>\n",
       "    <tr>\n",
       "      <th>312</th>\n",
       "      <td>Brasil</td>\n",
       "      <td>%</td>\n",
       "      <td>0.32</td>\n",
       "      <td>Brasil</td>\n",
       "      <td>IPCA dessazonalizado - Variação mensal</td>\n",
       "      <td>2024-01-01</td>\n",
       "    </tr>\n",
       "    <tr>\n",
       "      <th>313</th>\n",
       "      <td>Brasil</td>\n",
       "      <td>%</td>\n",
       "      <td>0.82</td>\n",
       "      <td>Brasil</td>\n",
       "      <td>IPCA dessazonalizado - Variação mensal</td>\n",
       "      <td>2024-02-01</td>\n",
       "    </tr>\n",
       "    <tr>\n",
       "      <th>314</th>\n",
       "      <td>Brasil</td>\n",
       "      <td>%</td>\n",
       "      <td>0.10</td>\n",
       "      <td>Brasil</td>\n",
       "      <td>IPCA dessazonalizado - Variação mensal</td>\n",
       "      <td>2024-03-01</td>\n",
       "    </tr>\n",
       "    <tr>\n",
       "      <th>315</th>\n",
       "      <td>Brasil</td>\n",
       "      <td>%</td>\n",
       "      <td>0.33</td>\n",
       "      <td>Brasil</td>\n",
       "      <td>IPCA dessazonalizado - Variação mensal</td>\n",
       "      <td>2024-04-01</td>\n",
       "    </tr>\n",
       "    <tr>\n",
       "      <th>316</th>\n",
       "      <td>Brasil</td>\n",
       "      <td>%</td>\n",
       "      <td>0.49</td>\n",
       "      <td>Brasil</td>\n",
       "      <td>IPCA dessazonalizado - Variação mensal</td>\n",
       "      <td>2024-05-01</td>\n",
       "    </tr>\n",
       "    <tr>\n",
       "      <th>317</th>\n",
       "      <td>Brasil</td>\n",
       "      <td>%</td>\n",
       "      <td>0.28</td>\n",
       "      <td>Brasil</td>\n",
       "      <td>IPCA dessazonalizado - Variação mensal</td>\n",
       "      <td>2024-06-01</td>\n",
       "    </tr>\n",
       "    <tr>\n",
       "      <th>318</th>\n",
       "      <td>Brasil</td>\n",
       "      <td>%</td>\n",
       "      <td>0.50</td>\n",
       "      <td>Brasil</td>\n",
       "      <td>IPCA dessazonalizado - Variação mensal</td>\n",
       "      <td>2024-07-01</td>\n",
       "    </tr>\n",
       "    <tr>\n",
       "      <th>319</th>\n",
       "      <td>Brasil</td>\n",
       "      <td>%</td>\n",
       "      <td>0.08</td>\n",
       "      <td>Brasil</td>\n",
       "      <td>IPCA dessazonalizado - Variação mensal</td>\n",
       "      <td>2024-08-01</td>\n",
       "    </tr>\n",
       "    <tr>\n",
       "      <th>320</th>\n",
       "      <td>Brasil</td>\n",
       "      <td>%</td>\n",
       "      <td>0.50</td>\n",
       "      <td>Brasil</td>\n",
       "      <td>IPCA dessazonalizado - Variação mensal</td>\n",
       "      <td>2024-09-01</td>\n",
       "    </tr>\n",
       "    <tr>\n",
       "      <th>321</th>\n",
       "      <td>Brasil</td>\n",
       "      <td>%</td>\n",
       "      <td>0.54</td>\n",
       "      <td>Brasil</td>\n",
       "      <td>IPCA dessazonalizado - Variação mensal</td>\n",
       "      <td>2024-10-01</td>\n",
       "    </tr>\n",
       "    <tr>\n",
       "      <th>322</th>\n",
       "      <td>Brasil</td>\n",
       "      <td>%</td>\n",
       "      <td>0.33</td>\n",
       "      <td>Brasil</td>\n",
       "      <td>IPCA dessazonalizado - Variação mensal</td>\n",
       "      <td>2024-11-01</td>\n",
       "    </tr>\n",
       "    <tr>\n",
       "      <th>323</th>\n",
       "      <td>Brasil</td>\n",
       "      <td>%</td>\n",
       "      <td>0.44</td>\n",
       "      <td>Brasil</td>\n",
       "      <td>IPCA dessazonalizado - Variação mensal</td>\n",
       "      <td>2024-12-01</td>\n",
       "    </tr>\n",
       "  </tbody>\n",
       "</table>\n",
       "</div>"
      ],
      "text/plain": [
       "    Nivel Territorial Unidade de Medida  Valor    Pais  \\\n",
       "312            Brasil                 %   0.32  Brasil   \n",
       "313            Brasil                 %   0.82  Brasil   \n",
       "314            Brasil                 %   0.10  Brasil   \n",
       "315            Brasil                 %   0.33  Brasil   \n",
       "316            Brasil                 %   0.49  Brasil   \n",
       "317            Brasil                 %   0.28  Brasil   \n",
       "318            Brasil                 %   0.50  Brasil   \n",
       "319            Brasil                 %   0.08  Brasil   \n",
       "320            Brasil                 %   0.50  Brasil   \n",
       "321            Brasil                 %   0.54  Brasil   \n",
       "322            Brasil                 %   0.33  Brasil   \n",
       "323            Brasil                 %   0.44  Brasil   \n",
       "\n",
       "                                   Variavel       Data  \n",
       "312  IPCA dessazonalizado - Variação mensal 2024-01-01  \n",
       "313  IPCA dessazonalizado - Variação mensal 2024-02-01  \n",
       "314  IPCA dessazonalizado - Variação mensal 2024-03-01  \n",
       "315  IPCA dessazonalizado - Variação mensal 2024-04-01  \n",
       "316  IPCA dessazonalizado - Variação mensal 2024-05-01  \n",
       "317  IPCA dessazonalizado - Variação mensal 2024-06-01  \n",
       "318  IPCA dessazonalizado - Variação mensal 2024-07-01  \n",
       "319  IPCA dessazonalizado - Variação mensal 2024-08-01  \n",
       "320  IPCA dessazonalizado - Variação mensal 2024-09-01  \n",
       "321  IPCA dessazonalizado - Variação mensal 2024-10-01  \n",
       "322  IPCA dessazonalizado - Variação mensal 2024-11-01  \n",
       "323  IPCA dessazonalizado - Variação mensal 2024-12-01  "
      ]
     },
     "execution_count": 49,
     "metadata": {},
     "output_type": "execute_result"
    }
   ],
   "source": [
    "IPCA_dessazonalizado_2024"
   ]
  },
  {
   "cell_type": "markdown",
   "metadata": {},
   "source": [
    "### valor da média, mediana e moda no ano de 2024\n"
   ]
  },
  {
   "cell_type": "code",
   "execution_count": 50,
   "metadata": {},
   "outputs": [
    {
     "data": {
      "text/plain": [
       "count    12.000000\n",
       "mean      0.394167\n",
       "std       0.201876\n",
       "min       0.080000\n",
       "25%       0.310000\n",
       "50%       0.385000\n",
       "75%       0.500000\n",
       "max       0.820000\n",
       "Name: Valor, dtype: float64"
      ]
     },
     "execution_count": 50,
     "metadata": {},
     "output_type": "execute_result"
    }
   ],
   "source": [
    "IPCA_dessazonalizado_2024['Valor'].describe()"
   ]
  },
  {
   "cell_type": "code",
   "execution_count": 51,
   "metadata": {},
   "outputs": [
    {
     "data": {
      "text/plain": [
       "np.float64(0.3941666666666667)"
      ]
     },
     "execution_count": 51,
     "metadata": {},
     "output_type": "execute_result"
    }
   ],
   "source": [
    "IPCA_dessazonalizado_2024['Valor'].mean()"
   ]
  },
  {
   "cell_type": "code",
   "execution_count": 52,
   "metadata": {},
   "outputs": [
    {
     "data": {
      "text/plain": [
       "np.float64(0.385)"
      ]
     },
     "execution_count": 52,
     "metadata": {},
     "output_type": "execute_result"
    }
   ],
   "source": [
    "IPCA_dessazonalizado_2024['Valor'].median()"
   ]
  },
  {
   "cell_type": "code",
   "execution_count": 53,
   "metadata": {},
   "outputs": [
    {
     "data": {
      "text/plain": [
       "0    0.33\n",
       "1    0.50\n",
       "Name: Valor, dtype: float64"
      ]
     },
     "execution_count": 53,
     "metadata": {},
     "output_type": "execute_result"
    }
   ],
   "source": [
    "IPCA_dessazonalizado_2024['Valor'].mode()"
   ]
  },
  {
   "cell_type": "code",
   "execution_count": 55,
   "metadata": {},
   "outputs": [
    {
     "name": "stdout",
     "output_type": "stream",
     "text": [
      "Arquivo criado com sucesso!\n"
     ]
    }
   ],
   "source": [
    "with open(\"../reports/analise_118_dessazonalizado.md\", \"w\") as file:\n",
    "    file.write(\"# Análise dos Dados da Tabela 118 - IPCA Dessazonalizado\\n\\n\")\n",
    "    file.write(\"De acordo com a análise dos dados da tabela 118 - **IPCA Dessazonalizado**, \"\n",
    "               \"os resultados encontrados são os seguintes:\\n\\n\")\n",
    "\n",
    "    file.write(\"## Estatísticas\\n\")\n",
    "    file.write(\"- **Média**: 0.3941666666666667\\n\")\n",
    "    file.write(\"- **Mediana**: 0.385\\n\")\n",
    "    file.write(\"- **Valores mais repetidos**: 0.33 e 0.50\\n\")\n",
    "\n",
    "    file.write(\"\\nEsses valores representam a variação do IPCA de forma dessazonalizada, \"\n",
    "               \"facilitando a comparação entre períodos sem o efeito sazonal.\\n\")\n",
    "\n",
    "print(\"Arquivo criado com sucesso!\")\n"
   ]
  }
 ],
 "metadata": {
  "kernelspec": {
   "display_name": ".venv",
   "language": "python",
   "name": "python3"
  },
  "language_info": {
   "codemirror_mode": {
    "name": "ipython",
    "version": 3
   },
   "file_extension": ".py",
   "mimetype": "text/x-python",
   "name": "python",
   "nbconvert_exporter": "python",
   "pygments_lexer": "ipython3",
   "version": "3.12.3"
  }
 },
 "nbformat": 4,
 "nbformat_minor": 2
}
